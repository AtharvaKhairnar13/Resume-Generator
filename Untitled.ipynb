{
 "cells": [
  {
   "cell_type": "code",
   "execution_count": 31,
   "id": "8aafea12",
   "metadata": {},
   "outputs": [],
   "source": [
    "import pandas as pd\n",
    "test_df=pd.read_csv(\"test (1).csv\")"
   ]
  },
  {
   "cell_type": "code",
   "execution_count": 32,
   "id": "9545d919",
   "metadata": {},
   "outputs": [],
   "source": [
    "test_df=test_df.drop(columns=['Experience','Salary Range','Work Type','location','Country','latitude','longitude','Company Size','Job Posting Date','Preference','Contact Person','Contact','Job Portal','Benefits','Company','Company Profile','Responsibilities','Qualifications','Job Title', 'Role'])"
   ]
  },
  {
   "cell_type": "code",
   "execution_count": 33,
   "id": "c4553142",
   "metadata": {},
   "outputs": [
    {
     "data": {
      "text/html": [
       "<div>\n",
       "<style scoped>\n",
       "    .dataframe tbody tr th:only-of-type {\n",
       "        vertical-align: middle;\n",
       "    }\n",
       "\n",
       "    .dataframe tbody tr th {\n",
       "        vertical-align: top;\n",
       "    }\n",
       "\n",
       "    .dataframe thead th {\n",
       "        text-align: right;\n",
       "    }\n",
       "</style>\n",
       "<table border=\"1\" class=\"dataframe\">\n",
       "  <thead>\n",
       "    <tr style=\"text-align: right;\">\n",
       "      <th></th>\n",
       "      <th>id</th>\n",
       "      <th>Job Description</th>\n",
       "    </tr>\n",
       "  </thead>\n",
       "  <tbody>\n",
       "    <tr>\n",
       "      <th>0</th>\n",
       "      <td>2051</td>\n",
       "      <td>User Interface Designers focus on the visual a...</td>\n",
       "    </tr>\n",
       "    <tr>\n",
       "      <th>1</th>\n",
       "      <td>2052</td>\n",
       "      <td>Assist in real estate transactions, including ...</td>\n",
       "    </tr>\n",
       "    <tr>\n",
       "      <th>2</th>\n",
       "      <td>2053</td>\n",
       "      <td>Email Marketing Specialists design and execute...</td>\n",
       "    </tr>\n",
       "    <tr>\n",
       "      <th>3</th>\n",
       "      <td>2054</td>\n",
       "      <td>A Sales Account Executive is responsible for a...</td>\n",
       "    </tr>\n",
       "    <tr>\n",
       "      <th>4</th>\n",
       "      <td>2055</td>\n",
       "      <td>Conduct research, design experiments, and deve...</td>\n",
       "    </tr>\n",
       "  </tbody>\n",
       "</table>\n",
       "</div>"
      ],
      "text/plain": [
       "     id                                    Job Description\n",
       "0  2051  User Interface Designers focus on the visual a...\n",
       "1  2052  Assist in real estate transactions, including ...\n",
       "2  2053  Email Marketing Specialists design and execute...\n",
       "3  2054  A Sales Account Executive is responsible for a...\n",
       "4  2055  Conduct research, design experiments, and deve..."
      ]
     },
     "execution_count": 33,
     "metadata": {},
     "output_type": "execute_result"
    }
   ],
   "source": [
    "test_df.head()"
   ]
  },
  {
   "cell_type": "code",
   "execution_count": 5,
   "id": "ceb98110",
   "metadata": {},
   "outputs": [],
   "source": [
    "import tensorflow as tf"
   ]
  },
  {
   "cell_type": "code",
   "execution_count": 6,
   "id": "9f0a99c3",
   "metadata": {},
   "outputs": [
    {
     "name": "stderr",
     "output_type": "stream",
     "text": [
      "/Users/atharvakhairnar13/Desktop/AAi_Competition/.venv/lib/python3.12/site-packages/tqdm/auto.py:21: TqdmWarning: IProgress not found. Please update jupyter and ipywidgets. See https://ipywidgets.readthedocs.io/en/stable/user_install.html\n",
      "  from .autonotebook import tqdm as notebook_tqdm\n"
     ]
    }
   ],
   "source": [
    "from transformers import GPT2Tokenizer, TFGPT2LMHeadModel"
   ]
  },
  {
   "cell_type": "code",
   "execution_count": 7,
   "id": "f6e5c852",
   "metadata": {},
   "outputs": [
    {
     "name": "stderr",
     "output_type": "stream",
     "text": [
      "/Users/atharvakhairnar13/Desktop/AAi_Competition/.venv/lib/python3.12/site-packages/huggingface_hub/file_download.py:1132: FutureWarning: `resume_download` is deprecated and will be removed in version 1.0.0. Downloads always resume when possible. If you want to force a new download, use `force_download=True`.\n",
      "  warnings.warn(\n",
      "All PyTorch model weights were used when initializing TFGPT2LMHeadModel.\n",
      "\n",
      "All the weights of TFGPT2LMHeadModel were initialized from the PyTorch model.\n",
      "If your task is similar to the task the model of the checkpoint was trained on, you can already use TFGPT2LMHeadModel for predictions without further training.\n"
     ]
    }
   ],
   "source": [
    "tokenizer=GPT2Tokenizer.from_pretrained(\"gpt2\",bos_token='<startoftext>',eos_token='<endoftext>',pad_token='<pad>')\n",
    "model=TFGPT2LMHeadModel.from_pretrained(\"/Users/atharvakhairnar13/Desktop/AAi_Competition/gpt2-finetuned-jd-to-skills\")"
   ]
  },
  {
   "cell_type": "code",
   "execution_count": 36,
   "id": "f2cbb01a",
   "metadata": {},
   "outputs": [
    {
     "name": "stderr",
     "output_type": "stream",
     "text": [
      "  0%|          | 0/10 [00:00<?, ?it/s]/Users/atharvakhairnar13/Desktop/AAi_Competition/.venv/lib/python3.12/site-packages/transformers/generation/configuration_utils.py:492: UserWarning: `do_sample` is set to `False`. However, `temperature` is set to `0` -- this flag is only used in sample-based generation modes. You should set `do_sample=True` or unset `temperature`.\n",
      "  warnings.warn(\n",
      "/Users/atharvakhairnar13/Desktop/AAi_Competition/.venv/lib/python3.12/site-packages/transformers/generation/configuration_utils.py:497: UserWarning: `do_sample` is set to `False`. However, `top_p` is set to `0.9` -- this flag is only used in sample-based generation modes. You should set `do_sample=True` or unset `top_p`.\n",
      "  warnings.warn(\n",
      "The attention mask and the pad token id were not set. As a consequence, you may observe unexpected behavior. Please pass your input's `attention_mask` to obtain reliable results.\n",
      "Setting `pad_token_id` to `eos_token_id`:50256 for open-end generation.\n",
      " 10%|█         | 1/10 [00:20<03:06, 20.77s/it]The attention mask and the pad token id were not set. As a consequence, you may observe unexpected behavior. Please pass your input's `attention_mask` to obtain reliable results.\n",
      "Setting `pad_token_id` to `eos_token_id`:50256 for open-end generation.\n",
      " 20%|██        | 2/10 [00:40<02:40, 20.11s/it]The attention mask and the pad token id were not set. As a consequence, you may observe unexpected behavior. Please pass your input's `attention_mask` to obtain reliable results.\n",
      "Setting `pad_token_id` to `eos_token_id`:50256 for open-end generation.\n",
      " 30%|███       | 3/10 [00:58<02:13, 19.12s/it]The attention mask and the pad token id were not set. As a consequence, you may observe unexpected behavior. Please pass your input's `attention_mask` to obtain reliable results.\n",
      "Setting `pad_token_id` to `eos_token_id`:50256 for open-end generation.\n",
      " 40%|████      | 4/10 [01:15<01:50, 18.43s/it]The attention mask and the pad token id were not set. As a consequence, you may observe unexpected behavior. Please pass your input's `attention_mask` to obtain reliable results.\n",
      "Setting `pad_token_id` to `eos_token_id`:50256 for open-end generation.\n",
      " 50%|█████     | 5/10 [01:36<01:36, 19.35s/it]The attention mask and the pad token id were not set. As a consequence, you may observe unexpected behavior. Please pass your input's `attention_mask` to obtain reliable results.\n",
      "Setting `pad_token_id` to `eos_token_id`:50256 for open-end generation.\n",
      " 60%|██████    | 6/10 [02:02<01:26, 21.55s/it]The attention mask and the pad token id were not set. As a consequence, you may observe unexpected behavior. Please pass your input's `attention_mask` to obtain reliable results.\n",
      "Setting `pad_token_id` to `eos_token_id`:50256 for open-end generation.\n",
      " 70%|███████   | 7/10 [02:20<01:00, 20.33s/it]The attention mask and the pad token id were not set. As a consequence, you may observe unexpected behavior. Please pass your input's `attention_mask` to obtain reliable results.\n",
      "Setting `pad_token_id` to `eos_token_id`:50256 for open-end generation.\n",
      " 80%|████████  | 8/10 [02:43<00:42, 21.33s/it]The attention mask and the pad token id were not set. As a consequence, you may observe unexpected behavior. Please pass your input's `attention_mask` to obtain reliable results.\n",
      "Setting `pad_token_id` to `eos_token_id`:50256 for open-end generation.\n",
      " 90%|█████████ | 9/10 [03:00<00:19, 19.85s/it]The attention mask and the pad token id were not set. As a consequence, you may observe unexpected behavior. Please pass your input's `attention_mask` to obtain reliable results.\n",
      "Setting `pad_token_id` to `eos_token_id`:50256 for open-end generation.\n",
      "100%|██████████| 10/10 [03:19<00:00, 19.93s/it]\n"
     ]
    }
   ],
   "source": [
    "from tqdm import tqdm\n",
    "from sklearn.metrics import f1_score\n",
    "\n",
    "\n",
    "predicted_label=[]\n",
    "id=test_df['id']\n",
    "for text in tqdm(test_df['Job Description']):\n",
    "    prompt=prep_txt = f'<startoftext>Prompt: Mention Required Skills for the following Job Description: {text}\\nAnswer:'\n",
    "    generated=tokenizer(f\"{prompt}\",return_tensors=\"pt\").input_ids\n",
    "    \n",
    "    sample_outputs=model.generate(generated,do_sample=False,top_k=50,max_length=128,top_p=0.90,temperature=0,num_beams=5,early_stopping=True,num_return_sequences=3)\n",
    "    \n",
    "    pred_text=tokenizer.decode(sample_outputs[0],skip_special_tokens=True)\n",
    "    \n",
    "    \n",
    "    predicted_label.append(pred_text)\n",
    "    \n",
    "df=pd.DataFrame({'id':id,'predicted_label':predicted_label})\n",
    "\n"
   ]
  },
  {
   "cell_type": "code",
   "execution_count": 25,
   "id": "9a0e2340",
   "metadata": {},
   "outputs": [],
   "source": [
    "def split_answer(text):\n",
    "    parts = text.split(\"\\n\")\n",
    "    first_answer = parts[1]\n",
    "    \n",
    "    # Find the position of the phrase \"Answer: The skills required for the above job description is\"\n",
    "    phrase = \"Answer: The skills required for the above job description is\"\n",
    "    start_index = first_answer.find(phrase)\n",
    "    if start_index == -1:\n",
    "        return None\n",
    "    \n",
    "    # Extract the part after the phrase\n",
    "    skills_text = first_answer[start_index + len(phrase):].strip()\n",
    "    \n",
    "    # Split the text into individual skills\n",
    "    skills = skills_text.split(\", \")[:5]  # Extract the first 5 skills\n",
    "    result = ', '.join(skills)\n",
    "    return result"
   ]
  },
  {
   "cell_type": "code",
   "execution_count": 14,
   "id": "575c80a4",
   "metadata": {},
   "outputs": [
    {
     "data": {
      "text/plain": [
       "Index(['predicted_label'], dtype='object')"
      ]
     },
     "execution_count": 14,
     "metadata": {},
     "output_type": "execute_result"
    }
   ],
   "source": [
    "df.columns"
   ]
  },
  {
   "cell_type": "code",
   "execution_count": 37,
   "id": "a48562ed",
   "metadata": {},
   "outputs": [],
   "source": [
    "df[\"skills\"]=df['predicted_label'].apply(split_answer)"
   ]
  },
  {
   "cell_type": "code",
   "execution_count": 38,
   "id": "7f40d924",
   "metadata": {},
   "outputs": [
    {
     "data": {
      "text/html": [
       "<div>\n",
       "<style scoped>\n",
       "    .dataframe tbody tr th:only-of-type {\n",
       "        vertical-align: middle;\n",
       "    }\n",
       "\n",
       "    .dataframe tbody tr th {\n",
       "        vertical-align: top;\n",
       "    }\n",
       "\n",
       "    .dataframe thead th {\n",
       "        text-align: right;\n",
       "    }\n",
       "</style>\n",
       "<table border=\"1\" class=\"dataframe\">\n",
       "  <thead>\n",
       "    <tr style=\"text-align: right;\">\n",
       "      <th></th>\n",
       "      <th>id</th>\n",
       "      <th>predicted_label</th>\n",
       "      <th>skills</th>\n",
       "    </tr>\n",
       "  </thead>\n",
       "  <tbody>\n",
       "    <tr>\n",
       "      <th>0</th>\n",
       "      <td>2051</td>\n",
       "      <td>Prompt: Mention Required Skills for the follow...</td>\n",
       "      <td>ui design principles, user interface design pr...</td>\n",
       "    </tr>\n",
       "    <tr>\n",
       "      <th>1</th>\n",
       "      <td>2052</td>\n",
       "      <td>Prompt: Mention Required Skills for the follow...</td>\n",
       "      <td>real estate transactions, title search, clos t...</td>\n",
       "    </tr>\n",
       "    <tr>\n",
       "      <th>2</th>\n",
       "      <td>2053</td>\n",
       "      <td>Prompt: Mention Required Skills for the follow...</td>\n",
       "      <td>email marketing strategies, content analysis e...</td>\n",
       "    </tr>\n",
       "    <tr>\n",
       "      <th>3</th>\n",
       "      <td>2054</td>\n",
       "      <td>Prompt: Mention Required Skills for the follow...</td>\n",
       "      <td>account management sales, negotiation contract...</td>\n",
       "    </tr>\n",
       "    <tr>\n",
       "      <th>4</th>\n",
       "      <td>2055</td>\n",
       "      <td>Prompt: Mention Required Skills for the follow...</td>\n",
       "      <td>research methodologies, experimentation, proto...</td>\n",
       "    </tr>\n",
       "    <tr>\n",
       "      <th>5</th>\n",
       "      <td>2056</td>\n",
       "      <td>Prompt: Mention Required Skills for the follow...</td>\n",
       "      <td>systems integration software, integration test...</td>\n",
       "    </tr>\n",
       "    <tr>\n",
       "      <th>6</th>\n",
       "      <td>2057</td>\n",
       "      <td>Prompt: Mention Required Skills for the follow...</td>\n",
       "      <td>technical, troubleshooting hardware, troublesh...</td>\n",
       "    </tr>\n",
       "    <tr>\n",
       "      <th>7</th>\n",
       "      <td>2058</td>\n",
       "      <td>Prompt: Mention Required Skills for the follow...</td>\n",
       "      <td>interaction design principles, user behavior p...</td>\n",
       "    </tr>\n",
       "    <tr>\n",
       "      <th>8</th>\n",
       "      <td>2059</td>\n",
       "      <td>Prompt: Mention Required Skills for the follow...</td>\n",
       "      <td>java programming language, development cross-f...</td>\n",
       "    </tr>\n",
       "    <tr>\n",
       "      <th>9</th>\n",
       "      <td>2060</td>\n",
       "      <td>Prompt: Mention Required Skills for the follow...</td>\n",
       "      <td>industrial automation control system, design a...</td>\n",
       "    </tr>\n",
       "  </tbody>\n",
       "</table>\n",
       "</div>"
      ],
      "text/plain": [
       "     id                                    predicted_label  \\\n",
       "0  2051  Prompt: Mention Required Skills for the follow...   \n",
       "1  2052  Prompt: Mention Required Skills for the follow...   \n",
       "2  2053  Prompt: Mention Required Skills for the follow...   \n",
       "3  2054  Prompt: Mention Required Skills for the follow...   \n",
       "4  2055  Prompt: Mention Required Skills for the follow...   \n",
       "5  2056  Prompt: Mention Required Skills for the follow...   \n",
       "6  2057  Prompt: Mention Required Skills for the follow...   \n",
       "7  2058  Prompt: Mention Required Skills for the follow...   \n",
       "8  2059  Prompt: Mention Required Skills for the follow...   \n",
       "9  2060  Prompt: Mention Required Skills for the follow...   \n",
       "\n",
       "                                              skills  \n",
       "0  ui design principles, user interface design pr...  \n",
       "1  real estate transactions, title search, clos t...  \n",
       "2  email marketing strategies, content analysis e...  \n",
       "3  account management sales, negotiation contract...  \n",
       "4  research methodologies, experimentation, proto...  \n",
       "5  systems integration software, integration test...  \n",
       "6  technical, troubleshooting hardware, troublesh...  \n",
       "7  interaction design principles, user behavior p...  \n",
       "8  java programming language, development cross-f...  \n",
       "9  industrial automation control system, design a...  "
      ]
     },
     "execution_count": 38,
     "metadata": {},
     "output_type": "execute_result"
    }
   ],
   "source": [
    "df.head(10)"
   ]
  },
  {
   "cell_type": "code",
   "execution_count": 53,
   "id": "b830363d",
   "metadata": {},
   "outputs": [],
   "source": [
    "df=df.drop(columns=['ID'],axis=1)"
   ]
  },
  {
   "cell_type": "code",
   "execution_count": 59,
   "id": "f3fcb37f",
   "metadata": {},
   "outputs": [],
   "source": [
    "df.to_csv(\"323033_AtharvaKhairnar_TestResults.csv\")"
   ]
  },
  {
   "cell_type": "code",
   "execution_count": 54,
   "id": "10607416",
   "metadata": {},
   "outputs": [],
   "source": [
    "df['id']=id"
   ]
  },
  {
   "cell_type": "code",
   "execution_count": 55,
   "id": "ca0032c1",
   "metadata": {},
   "outputs": [
    {
     "ename": "NameError",
     "evalue": "name 'new_df' is not defined",
     "output_type": "error",
     "traceback": [
      "\u001b[0;31m---------------------------------------------------------------------------\u001b[0m",
      "\u001b[0;31mNameError\u001b[0m                                 Traceback (most recent call last)",
      "Cell \u001b[0;32mIn[55], line 1\u001b[0m\n\u001b[0;32m----> 1\u001b[0m \u001b[43mnew_df\u001b[49m[\u001b[38;5;124m'\u001b[39m\u001b[38;5;124mid\u001b[39m\u001b[38;5;124m'\u001b[39m]\u001b[38;5;241m=\u001b[39mdf[\u001b[38;5;124m'\u001b[39m\u001b[38;5;124mid\u001b[39m\u001b[38;5;124m'\u001b[39m]\n",
      "\u001b[0;31mNameError\u001b[0m: name 'new_df' is not defined"
     ]
    }
   ],
   "source": [
    "new_df['id']=df['id']"
   ]
  },
  {
   "cell_type": "code",
   "execution_count": 58,
   "id": "f34bfb44",
   "metadata": {},
   "outputs": [
    {
     "data": {
      "text/html": [
       "<div>\n",
       "<style scoped>\n",
       "    .dataframe tbody tr th:only-of-type {\n",
       "        vertical-align: middle;\n",
       "    }\n",
       "\n",
       "    .dataframe tbody tr th {\n",
       "        vertical-align: top;\n",
       "    }\n",
       "\n",
       "    .dataframe thead th {\n",
       "        text-align: right;\n",
       "    }\n",
       "</style>\n",
       "<table border=\"1\" class=\"dataframe\">\n",
       "  <thead>\n",
       "    <tr style=\"text-align: right;\">\n",
       "      <th></th>\n",
       "      <th>id</th>\n",
       "      <th>skills</th>\n",
       "    </tr>\n",
       "  </thead>\n",
       "  <tbody>\n",
       "    <tr>\n",
       "      <th>0</th>\n",
       "      <td>2051</td>\n",
       "      <td>ui design principles, user interface design pr...</td>\n",
       "    </tr>\n",
       "    <tr>\n",
       "      <th>1</th>\n",
       "      <td>2052</td>\n",
       "      <td>real estate transactions, title search, clos t...</td>\n",
       "    </tr>\n",
       "    <tr>\n",
       "      <th>2</th>\n",
       "      <td>2053</td>\n",
       "      <td>email marketing strategies, content analysis e...</td>\n",
       "    </tr>\n",
       "    <tr>\n",
       "      <th>3</th>\n",
       "      <td>2054</td>\n",
       "      <td>account management sales, negotiation contract...</td>\n",
       "    </tr>\n",
       "    <tr>\n",
       "      <th>4</th>\n",
       "      <td>2055</td>\n",
       "      <td>research methodologies, experimentation, proto...</td>\n",
       "    </tr>\n",
       "    <tr>\n",
       "      <th>5</th>\n",
       "      <td>2056</td>\n",
       "      <td>systems integration software, integration test...</td>\n",
       "    </tr>\n",
       "    <tr>\n",
       "      <th>6</th>\n",
       "      <td>2057</td>\n",
       "      <td>technical, troubleshooting hardware, troublesh...</td>\n",
       "    </tr>\n",
       "    <tr>\n",
       "      <th>7</th>\n",
       "      <td>2058</td>\n",
       "      <td>interaction design principles, user behavior p...</td>\n",
       "    </tr>\n",
       "    <tr>\n",
       "      <th>8</th>\n",
       "      <td>2059</td>\n",
       "      <td>java programming language, development cross-f...</td>\n",
       "    </tr>\n",
       "    <tr>\n",
       "      <th>9</th>\n",
       "      <td>2060</td>\n",
       "      <td>industrial automation control system, design a...</td>\n",
       "    </tr>\n",
       "  </tbody>\n",
       "</table>\n",
       "</div>"
      ],
      "text/plain": [
       "     id                                             skills\n",
       "0  2051  ui design principles, user interface design pr...\n",
       "1  2052  real estate transactions, title search, clos t...\n",
       "2  2053  email marketing strategies, content analysis e...\n",
       "3  2054  account management sales, negotiation contract...\n",
       "4  2055  research methodologies, experimentation, proto...\n",
       "5  2056  systems integration software, integration test...\n",
       "6  2057  technical, troubleshooting hardware, troublesh...\n",
       "7  2058  interaction design principles, user behavior p...\n",
       "8  2059  java programming language, development cross-f...\n",
       "9  2060  industrial automation control system, design a..."
      ]
     },
     "execution_count": 58,
     "metadata": {},
     "output_type": "execute_result"
    }
   ],
   "source": [
    "df.head(10)"
   ]
  },
  {
   "cell_type": "code",
   "execution_count": 57,
   "id": "1f5709c9",
   "metadata": {},
   "outputs": [],
   "source": [
    "df=df[['id','skills']]"
   ]
  },
  {
   "cell_type": "code",
   "execution_count": null,
   "id": "891c2fab",
   "metadata": {},
   "outputs": [],
   "source": []
  }
 ],
 "metadata": {
  "kernelspec": {
   "display_name": "Python 3 (ipykernel)",
   "language": "python",
   "name": "python3"
  },
  "language_info": {
   "codemirror_mode": {
    "name": "ipython",
    "version": 3
   },
   "file_extension": ".py",
   "mimetype": "text/x-python",
   "name": "python",
   "nbconvert_exporter": "python",
   "pygments_lexer": "ipython3",
   "version": "3.12.1"
  }
 },
 "nbformat": 4,
 "nbformat_minor": 5
}
